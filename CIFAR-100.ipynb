{
  "nbformat": 4,
  "nbformat_minor": 0,
  "metadata": {
    "colab": {
      "name": "Exemplo CNN.ipynb",
      "provenance": [],
      "collapsed_sections": [],
      "toc_visible": true,
      "include_colab_link": true
    },
    "kernelspec": {
      "name": "python3",
      "display_name": "Python 3"
    },
    "language_info": {
      "name": "python"
    },
    "accelerator": "GPU"
  },
  "cells": [
    {
      "cell_type": "markdown",
      "metadata": {
        "id": "view-in-github",
        "colab_type": "text"
      },
      "source": [
        "<a href=\"https://colab.research.google.com/github/filipecmedeiros/CIFAR-100/blob/main/CIFAR-100.ipynb\" target=\"_parent\"><img src=\"https://colab.research.google.com/assets/colab-badge.svg\" alt=\"Open In Colab\"/></a>"
      ]
    },
    {
      "cell_type": "markdown",
      "metadata": {
        "id": "_rdr14n8-QlP"
      },
      "source": [
        "#### 1. Importar módulos necessários:"
      ]
    },
    {
      "cell_type": "code",
      "metadata": {
        "id": "_rfgLtW7-Jit"
      },
      "source": [
        "import numpy as np\n",
        "import matplotlib.pyplot as plt\n",
        "from tensorflow import keras\n",
        "from tensorflow.keras.layers import Input, Conv2D, MaxPool2D, Flatten, Dense"
      ],
      "execution_count": null,
      "outputs": []
    },
    {
      "cell_type": "markdown",
      "metadata": {
        "id": "LeIa2drY-3tZ"
      },
      "source": [
        "#### 2. Importação e preparação dos dados:"
      ]
    },
    {
      "cell_type": "code",
      "metadata": {
        "id": "j7H9l0Do-lo2"
      },
      "source": [
        "# Definir parâmetros do modelo e dos dados\n",
        "num_classes = 10\n",
        "input_shape = (28, 28, 1)"
      ],
      "execution_count": null,
      "outputs": []
    },
    {
      "cell_type": "code",
      "metadata": {
        "colab": {
          "base_uri": "https://localhost:8080/"
        },
        "id": "bvjww9CJ_GH1",
        "outputId": "a874d709-0cd4-4f19-844d-7cdd10bdd079"
      },
      "source": [
        "# Importar os dados e realizar a divisão entre conjuntos de treino e teste\n",
        "(x_train, y_train), (x_test, y_test) = keras.datasets.mnist.load_data()\n",
        "\n",
        "# Normalizar as imagens entre 0 e 1\n",
        "x_train = x_train.astype(\"float32\")/255.\n",
        "x_test = x_test.astype(\"float32\")/255.\n",
        "\n",
        "# Redimensionar as imagens para o formato (28, 28, 1)\n",
        "x_train = np.expand_dims(x_train, -1)\n",
        "x_test = np.expand_dims(x_test, -1)\n",
        "\n",
        "# Imprimir informações\n",
        "print(\"\\nDimensões das imagens:\", x_train.shape[1:])\n",
        "print(x_train.shape[0], \"amostras de treino\")\n",
        "print(x_test.shape[0], \"amostras de teste\")\n",
        "\n",
        "# Codificar o vetor de rótulos\n",
        "y_train = keras.utils.to_categorical(y_train, num_classes)\n",
        "y_test = keras.utils.to_categorical(y_test, num_classes)"
      ],
      "execution_count": null,
      "outputs": [
        {
          "output_type": "stream",
          "name": "stdout",
          "text": [
            "\n",
            "Dimensões das imagens: (28, 28, 1)\n",
            "60000 amostras de treino\n",
            "10000 amostras de teste\n"
          ]
        }
      ]
    },
    {
      "cell_type": "code",
      "metadata": {
        "colab": {
          "base_uri": "https://localhost:8080/",
          "height": 485
        },
        "id": "-ee4liYNG3uS",
        "outputId": "e6c55deb-4f82-4baa-997d-ada3914f7206"
      },
      "source": [
        "# Imprimir algumas imagens do conjunto de dados\n",
        "nrows = 4\n",
        "ncols = 4\n",
        "\n",
        "fig, ax = plt.subplots(nrows, ncols, figsize=(8, 8))\n",
        "for idx in range(nrows):    \n",
        "    for jdx in range(ncols): \n",
        "        ax[idx,jdx].imshow(x_train[jdx + nrows*idx, :, :, 0], cmap='gray')"
      ],
      "execution_count": null,
      "outputs": [
        {
          "output_type": "display_data",
          "data": {
            "image/png": "[encoded data removed]",
            "text/plain": [
              "<Figure size 576x576 with 16 Axes>"
            ]
          },
          "metadata": {
            "needs_background": "light"
          }
        }
      ]
    },
    {
      "cell_type": "markdown",
      "metadata": {
        "id": "Y9Wd2YdRBFxT"
      },
      "source": [
        "#### 3. Construção e treinamento do modelo:"
      ]
    },
    {
      "cell_type": "code",
      "metadata": {
        "colab": {
          "base_uri": "https://localhost:8080/"
        },
        "id": "YY-Wh_58_r39",
        "outputId": "41931cdc-4315-4e37-9a83-cb10c03a6d90"
      },
      "source": [
        "# Definir o modelo de classificação (rede neural convolucional)\n",
        "model = keras.Sequential(\n",
        "    [\n",
        "        Input(shape=input_shape),\n",
        "        Conv2D(8, padding = \"same\", kernel_size=(3, 3), activation=\"relu\", name=\"conv1\"),\n",
        "        MaxPool2D(pool_size=(2, 2), name=\"maxp1\"),\n",
        "        Conv2D(16, padding = \"same\", kernel_size=(3, 3), activation=\"relu\"),\n",
        "        MaxPool2D(pool_size=(2, 2)),\n",
        "        Flatten(),\n",
        "        Dense(num_classes, activation=\"softmax\")\n",
        "    ]\n",
        ")\n",
        "\n",
        "# Imprimir detalhes da estrutura do modelo\n",
        "model.summary()\n",
        "\n",
        "# Compilar o modelo; definir a perda, o algoritmo de otimização e a métrica para acompanhar o desempenho\n",
        "model.compile(loss=\"categorical_crossentropy\", optimizer=\"adam\", metrics=[\"accuracy\"])"
      ],
      "execution_count": null,
      "outputs": [
        {
          "output_type": "stream",
          "name": "stdout",
          "text": [
            "Model: \"sequential_3\"\n",
            "_________________________________________________________________\n",
            "Layer (type)                 Output Shape              Param #   \n",
            "=================================================================\n",
            "conv1 (Conv2D)               (None, 28, 28, 8)         80        \n",
            "_________________________________________________________________\n",
            "maxp1 (MaxPooling2D)         (None, 14, 14, 8)         0         \n",
            "_________________________________________________________________\n",
            "conv2d_5 (Conv2D)            (None, 14, 14, 16)        1168      \n",
            "_________________________________________________________________\n",
            "max_pooling2d_5 (MaxPooling2 (None, 7, 7, 16)          0         \n",
            "_________________________________________________________________\n",
            "flatten_3 (Flatten)          (None, 784)               0         \n",
            "_________________________________________________________________\n",
            "dense_3 (Dense)              (None, 10)                7850      \n",
            "=================================================================\n",
            "Total params: 9,098\n",
            "Trainable params: 9,098\n",
            "Non-trainable params: 0\n",
            "_________________________________________________________________\n"
          ]
        }
      ]
    },
    {
      "cell_type": "code",
      "metadata": {
        "colab": {
          "base_uri": "https://localhost:8080/"
        },
        "id": "j4PCGYP_AH4O",
        "outputId": "f8a1c932-9e96-4fc3-85d2-4bb17a1dfeb4"
      },
      "source": [
        "# Definir parâmetros do treinamento\n",
        "batch_size = 128\n",
        "epochs = 10\n",
        "\n",
        "# Treinar o classificador\n",
        "model.fit(x_train, y_train, batch_size=batch_size, epochs=epochs, validation_split=0.1)"
      ],
      "execution_count": null,
      "outputs": [
        {
          "output_type": "stream",
          "name": "stdout",
          "text": [
            "Epoch 1/10\n",
            "422/422 [==============================] - 4s 8ms/step - loss: 0.4781 - accuracy: 0.8685 - val_loss: 0.1520 - val_accuracy: 0.9583\n",
            "Epoch 2/10\n",
            "422/422 [==============================] - 3s 6ms/step - loss: 0.1524 - accuracy: 0.9541 - val_loss: 0.1061 - val_accuracy: 0.9705\n",
            "Epoch 3/10\n",
            "422/422 [==============================] - 3s 7ms/step - loss: 0.1106 - accuracy: 0.9660 - val_loss: 0.0876 - val_accuracy: 0.9757\n",
            "Epoch 4/10\n",
            "422/422 [==============================] - 3s 7ms/step - loss: 0.0908 - accuracy: 0.9723 - val_loss: 0.0812 - val_accuracy: 0.9762\n",
            "Epoch 5/10\n",
            "422/422 [==============================] - 3s 6ms/step - loss: 0.0791 - accuracy: 0.9754 - val_loss: 0.0694 - val_accuracy: 0.9822\n",
            "Epoch 6/10\n",
            "422/422 [==============================] - 3s 7ms/step - loss: 0.0705 - accuracy: 0.9781 - val_loss: 0.0726 - val_accuracy: 0.9783\n",
            "Epoch 7/10\n",
            "422/422 [==============================] - 3s 7ms/step - loss: 0.0647 - accuracy: 0.9805 - val_loss: 0.0636 - val_accuracy: 0.9828\n",
            "Epoch 8/10\n",
            "422/422 [==============================] - 3s 6ms/step - loss: 0.0585 - accuracy: 0.9820 - val_loss: 0.0627 - val_accuracy: 0.9828\n",
            "Epoch 9/10\n",
            "422/422 [==============================] - 3s 7ms/step - loss: 0.0554 - accuracy: 0.9827 - val_loss: 0.0580 - val_accuracy: 0.9840\n",
            "Epoch 10/10\n",
            "422/422 [==============================] - 3s 7ms/step - loss: 0.0509 - accuracy: 0.9843 - val_loss: 0.0521 - val_accuracy: 0.9862\n"
          ]
        },
        {
          "output_type": "execute_result",
          "data": {
            "text/plain": [
              "<keras.callbacks.History at 0x7fabe008df90>"
            ]
          },
          "metadata": {},
          "execution_count": 19
        }
      ]
    },
    {
      "cell_type": "markdown",
      "metadata": {
        "id": "9jzZqdooPuxP"
      },
      "source": [
        "#### 4. Avaliar modelo:"
      ]
    },
    {
      "cell_type": "code",
      "metadata": {
        "colab": {
          "base_uri": "https://localhost:8080/"
        },
        "id": "5Xz7Art3GmXT",
        "outputId": "d930041c-c9a8-4257-bb6d-5e7c68ffa0b1"
      },
      "source": [
        "# Calculando o valor da métrica de avaliação do modelo\n",
        "score = model.evaluate(x_test, y_test, verbose=0)\n",
        "print(\"Loss - Conjunto de testes:\", score[0])\n",
        "print(\"Acurácua - Conjunto de testes:\", score[1])"
      ],
      "execution_count": null,
      "outputs": [
        {
          "output_type": "stream",
          "name": "stdout",
          "text": [
            "Loss - Conjunto de testes: 0.048815734684467316\n",
            "Acurácua - Conjunto de testes: 0.9843000173568726\n"
          ]
        }
      ]
    },
    {
      "cell_type": "code",
      "metadata": {
        "colab": {
          "base_uri": "https://localhost:8080/",
          "height": 136
        },
        "id": "BwRJiBkZQ0Ni",
        "outputId": "06f4a53d-4f69-44d2-d6f0-3a5bd569e6e6"
      },
      "source": [
        "# Obter um modelo \"intermediário\"\n",
        "layer_name = 'conv1'\n",
        "intermediate_layer_model = keras.Model(inputs=model.input,\n",
        "                                       outputs=model.get_layer(layer_name).output)\n",
        "\n",
        "intermediate_output = intermediate_layer_model.predict(x_train[1, :, :, :])\n",
        "\n",
        "# Imprimir as ativações da camada convolucional 1\n",
        "nfilters = intermediate_output.shape[3]\n",
        "\n",
        "fig, ax = plt.subplots(1, nfilters, figsize=(8, 4))\n",
        "for idx in range(nfilters):    \n",
        "        ax[idx].imshow(intermediate_output[:, :, 0, idx], cmap='gray')"
      ],
      "execution_count": null,
      "outputs": [
        {
          "output_type": "stream",
          "name": "stdout",
          "text": [
            "WARNING:tensorflow:Model was constructed with shape (None, 28, 28, 1) for input KerasTensor(type_spec=TensorSpec(shape=(None, 28, 28, 1), dtype=tf.float32, name='input_4'), name='input_4', description=\"created by layer 'input_4'\"), but it was called on an input with incompatible shape (None, 28, 1, 1).\n"
          ]
        },
        {
          "output_type": "display_data",
          "data": {
            "image/png": "[encoded data removed]",
            "text/plain": [
              "<Figure size 576x288 with 8 Axes>"
            ]
          },
          "metadata": {
            "needs_background": "light"
          }
        }
      ]
    }
  ]
}